{
 "cells": [
  {
   "cell_type": "code",
   "execution_count": 54,
   "metadata": {
    "execution": {
     "iopub.execute_input": "2024-12-21T05:36:58.948684Z",
     "iopub.status.busy": "2024-12-21T05:36:58.948392Z",
     "iopub.status.idle": "2024-12-21T05:36:58.953462Z",
     "shell.execute_reply": "2024-12-21T05:36:58.952490Z",
     "shell.execute_reply.started": "2024-12-21T05:36:58.948662Z"
    },
    "trusted": true
   },
   "outputs": [],
   "source": [
    "import cv2 as cv\n",
    "import matplotlib.pyplot as plt\n",
    "import tensorflow as tf\n",
    "from tensorflow import keras\n",
    "from tensorflow.keras import Sequential\n",
    "from tensorflow.keras.layers import Dense, Conv2D, Flatten, MaxPooling2D, Dropout, GlobalAveragePooling2D, BatchNormalization\n",
    "from tensorflow.keras.regularizers import l2"
   ]
  },
  {
   "cell_type": "code",
   "execution_count": 76,
   "metadata": {
    "execution": {
     "iopub.execute_input": "2024-12-21T05:42:33.935375Z",
     "iopub.status.busy": "2024-12-21T05:42:33.935024Z",
     "iopub.status.idle": "2024-12-21T05:42:33.950909Z",
     "shell.execute_reply": "2024-12-21T05:42:33.950238Z",
     "shell.execute_reply.started": "2024-12-21T05:42:33.935350Z"
    },
    "trusted": true
   },
   "outputs": [],
   "source": [
    "import os\n",
    "import numpy as np\n",
    "from sklearn.preprocessing import LabelEncoder\n",
    "from sklearn.metrics import classification_report, accuracy_score\n",
    "from sklearn.model_selection import train_test_split"
   ]
  },
  {
   "cell_type": "code",
   "execution_count": 5,
   "metadata": {
    "execution": {
     "iopub.execute_input": "2024-12-21T05:08:47.018601Z",
     "iopub.status.busy": "2024-12-21T05:08:47.018142Z",
     "iopub.status.idle": "2024-12-21T05:08:47.022229Z",
     "shell.execute_reply": "2024-12-21T05:08:47.021353Z",
     "shell.execute_reply.started": "2024-12-21T05:08:47.018576Z"
    },
    "trusted": true
   },
   "outputs": [],
   "source": [
    "dir = \"/kaggle/input/hindi-character-recognition/DevanagariHandwrittenCharacterDataset\""
   ]
  },
  {
   "cell_type": "code",
   "execution_count": 6,
   "metadata": {
    "execution": {
     "iopub.execute_input": "2024-12-21T05:08:47.023312Z",
     "iopub.status.busy": "2024-12-21T05:08:47.023044Z",
     "iopub.status.idle": "2024-12-21T05:08:47.036833Z",
     "shell.execute_reply": "2024-12-21T05:08:47.036043Z",
     "shell.execute_reply.started": "2024-12-21T05:08:47.023293Z"
    },
    "trusted": true
   },
   "outputs": [],
   "source": [
    "def get_array_from_images(need ):\n",
    "    dir = \"/kaggle/input/hindi-character-recognition/DevanagariHandwrittenCharacterDataset\"\n",
    "    data = []\n",
    "    labels = []\n",
    "    \n",
    "    path = os.path.join(dir, need)\n",
    "\n",
    "    for files in os.listdir(path):\n",
    "        each_words_dir = os.path.join(path,files)\n",
    "        for img in os.listdir(each_words_dir):\n",
    "            img_path = os.path.join(each_words_dir, img)\n",
    "            img_array = cv.imread(img_path)\n",
    "            data.append(img_array)\n",
    "            labels.append(files)\n",
    "\n",
    "\n",
    "    return (np.array(data), np.array(labels))        \n",
    "    "
   ]
  },
  {
   "cell_type": "code",
   "execution_count": 176,
   "metadata": {
    "execution": {
     "iopub.execute_input": "2024-12-21T06:30:31.918247Z",
     "iopub.status.busy": "2024-12-21T06:30:31.917879Z",
     "iopub.status.idle": "2024-12-21T06:33:03.084680Z",
     "shell.execute_reply": "2024-12-21T06:33:03.083883Z",
     "shell.execute_reply.started": "2024-12-21T06:30:31.918216Z"
    },
    "trusted": true
   },
   "outputs": [],
   "source": [
    "X_train, y_train = get_array_from_images('Train' )"
   ]
  },
  {
   "cell_type": "code",
   "execution_count": 177,
   "metadata": {
    "execution": {
     "iopub.execute_input": "2024-12-21T06:33:03.085951Z",
     "iopub.status.busy": "2024-12-21T06:33:03.085693Z",
     "iopub.status.idle": "2024-12-21T06:33:03.666581Z",
     "shell.execute_reply": "2024-12-21T06:33:03.665860Z",
     "shell.execute_reply.started": "2024-12-21T06:33:03.085930Z"
    },
    "trusted": true
   },
   "outputs": [],
   "source": [
    "X_train = X_train/255"
   ]
  },
  {
   "cell_type": "code",
   "execution_count": 178,
   "metadata": {
    "execution": {
     "iopub.execute_input": "2024-12-21T06:33:03.668406Z",
     "iopub.status.busy": "2024-12-21T06:33:03.668073Z",
     "iopub.status.idle": "2024-12-21T06:33:26.362005Z",
     "shell.execute_reply": "2024-12-21T06:33:26.361266Z",
     "shell.execute_reply.started": "2024-12-21T06:33:03.668372Z"
    },
    "trusted": true
   },
   "outputs": [],
   "source": [
    "X_test, y_test = get_array_from_images(\"Test\")"
   ]
  },
  {
   "cell_type": "code",
   "execution_count": 179,
   "metadata": {
    "execution": {
     "iopub.execute_input": "2024-12-21T06:33:26.363416Z",
     "iopub.status.busy": "2024-12-21T06:33:26.363167Z",
     "iopub.status.idle": "2024-12-21T06:33:26.468941Z",
     "shell.execute_reply": "2024-12-21T06:33:26.468279Z",
     "shell.execute_reply.started": "2024-12-21T06:33:26.363396Z"
    },
    "trusted": true
   },
   "outputs": [],
   "source": [
    "X_test = X_test/255"
   ]
  },
  {
   "cell_type": "code",
   "execution_count": 180,
   "metadata": {
    "execution": {
     "iopub.execute_input": "2024-12-21T06:33:26.469906Z",
     "iopub.status.busy": "2024-12-21T06:33:26.469697Z",
     "iopub.status.idle": "2024-12-21T06:33:26.535625Z",
     "shell.execute_reply": "2024-12-21T06:33:26.534888Z",
     "shell.execute_reply.started": "2024-12-21T06:33:26.469888Z"
    },
    "trusted": true
   },
   "outputs": [
    {
     "name": "stderr",
     "output_type": "stream",
     "text": [
      "/usr/local/lib/python3.10/dist-packages/keras/src/layers/convolutional/base_conv.py:107: UserWarning: Do not pass an `input_shape`/`input_dim` argument to a layer. When using Sequential models, prefer using an `Input(shape)` object as the first layer in the model instead.\n",
      "  super().__init__(activity_regularizer=activity_regularizer, **kwargs)\n"
     ]
    }
   ],
   "source": [
    "model = Sequential([\n",
    "    Conv2D(32, (3, 3), activation='relu', input_shape=(32, 32, 3)),\n",
    "    BatchNormalization(),\n",
    "    MaxPooling2D((2, 2)),\n",
    "\n",
    "    Conv2D(64, (3, 3), activation='relu'),\n",
    "    BatchNormalization(),\n",
    "    MaxPooling2D((2, 2)),\n",
    "\n",
    "    Conv2D(128, (3, 3), activation='relu'),\n",
    "    BatchNormalization(),\n",
    "    MaxPooling2D((2, 2)),\n",
    "\n",
    "    GlobalAveragePooling2D(),\n",
    "\n",
    "    Dense(512, activation='relu', kernel_regularizer=l2(0.01)),\n",
    "    Dropout(0.5),\n",
    "\n",
    "    Dense(96, activation='softmax')\n",
    "])"
   ]
  },
  {
   "cell_type": "code",
   "execution_count": 181,
   "metadata": {
    "execution": {
     "iopub.execute_input": "2024-12-21T06:33:26.536713Z",
     "iopub.status.busy": "2024-12-21T06:33:26.536441Z",
     "iopub.status.idle": "2024-12-21T06:33:26.557179Z",
     "shell.execute_reply": "2024-12-21T06:33:26.556378Z",
     "shell.execute_reply.started": "2024-12-21T06:33:26.536676Z"
    },
    "trusted": true
   },
   "outputs": [
    {
     "data": {
      "text/html": [
       "<pre style=\"white-space:pre;overflow-x:auto;line-height:normal;font-family:Menlo,'DejaVu Sans Mono',consolas,'Courier New',monospace\"><span style=\"font-weight: bold\">Model: \"sequential_4\"</span>\n",
       "</pre>\n"
      ],
      "text/plain": [
       "\u001b[1mModel: \"sequential_4\"\u001b[0m\n"
      ]
     },
     "metadata": {},
     "output_type": "display_data"
    },
    {
     "data": {
      "text/html": [
       "<pre style=\"white-space:pre;overflow-x:auto;line-height:normal;font-family:Menlo,'DejaVu Sans Mono',consolas,'Courier New',monospace\">┏━━━━━━━━━━━━━━━━━━━━━━━━━━━━━━━━━━━━━━┳━━━━━━━━━━━━━━━━━━━━━━━━━━━━━┳━━━━━━━━━━━━━━━━━┓\n",
       "┃<span style=\"font-weight: bold\"> Layer (type)                         </span>┃<span style=\"font-weight: bold\"> Output Shape                </span>┃<span style=\"font-weight: bold\">         Param # </span>┃\n",
       "┡━━━━━━━━━━━━━━━━━━━━━━━━━━━━━━━━━━━━━━╇━━━━━━━━━━━━━━━━━━━━━━━━━━━━━╇━━━━━━━━━━━━━━━━━┩\n",
       "│ conv2d_16 (<span style=\"color: #0087ff; text-decoration-color: #0087ff\">Conv2D</span>)                   │ (<span style=\"color: #00d7ff; text-decoration-color: #00d7ff\">None</span>, <span style=\"color: #00af00; text-decoration-color: #00af00\">30</span>, <span style=\"color: #00af00; text-decoration-color: #00af00\">30</span>, <span style=\"color: #00af00; text-decoration-color: #00af00\">32</span>)          │             <span style=\"color: #00af00; text-decoration-color: #00af00\">896</span> │\n",
       "├──────────────────────────────────────┼─────────────────────────────┼─────────────────┤\n",
       "│ batch_normalization_3                │ (<span style=\"color: #00d7ff; text-decoration-color: #00d7ff\">None</span>, <span style=\"color: #00af00; text-decoration-color: #00af00\">30</span>, <span style=\"color: #00af00; text-decoration-color: #00af00\">30</span>, <span style=\"color: #00af00; text-decoration-color: #00af00\">32</span>)          │             <span style=\"color: #00af00; text-decoration-color: #00af00\">128</span> │\n",
       "│ (<span style=\"color: #0087ff; text-decoration-color: #0087ff\">BatchNormalization</span>)                 │                             │                 │\n",
       "├──────────────────────────────────────┼─────────────────────────────┼─────────────────┤\n",
       "│ max_pooling2d_9 (<span style=\"color: #0087ff; text-decoration-color: #0087ff\">MaxPooling2D</span>)       │ (<span style=\"color: #00d7ff; text-decoration-color: #00d7ff\">None</span>, <span style=\"color: #00af00; text-decoration-color: #00af00\">15</span>, <span style=\"color: #00af00; text-decoration-color: #00af00\">15</span>, <span style=\"color: #00af00; text-decoration-color: #00af00\">32</span>)          │               <span style=\"color: #00af00; text-decoration-color: #00af00\">0</span> │\n",
       "├──────────────────────────────────────┼─────────────────────────────┼─────────────────┤\n",
       "│ conv2d_17 (<span style=\"color: #0087ff; text-decoration-color: #0087ff\">Conv2D</span>)                   │ (<span style=\"color: #00d7ff; text-decoration-color: #00d7ff\">None</span>, <span style=\"color: #00af00; text-decoration-color: #00af00\">13</span>, <span style=\"color: #00af00; text-decoration-color: #00af00\">13</span>, <span style=\"color: #00af00; text-decoration-color: #00af00\">64</span>)          │          <span style=\"color: #00af00; text-decoration-color: #00af00\">18,496</span> │\n",
       "├──────────────────────────────────────┼─────────────────────────────┼─────────────────┤\n",
       "│ batch_normalization_4                │ (<span style=\"color: #00d7ff; text-decoration-color: #00d7ff\">None</span>, <span style=\"color: #00af00; text-decoration-color: #00af00\">13</span>, <span style=\"color: #00af00; text-decoration-color: #00af00\">13</span>, <span style=\"color: #00af00; text-decoration-color: #00af00\">64</span>)          │             <span style=\"color: #00af00; text-decoration-color: #00af00\">256</span> │\n",
       "│ (<span style=\"color: #0087ff; text-decoration-color: #0087ff\">BatchNormalization</span>)                 │                             │                 │\n",
       "├──────────────────────────────────────┼─────────────────────────────┼─────────────────┤\n",
       "│ max_pooling2d_10 (<span style=\"color: #0087ff; text-decoration-color: #0087ff\">MaxPooling2D</span>)      │ (<span style=\"color: #00d7ff; text-decoration-color: #00d7ff\">None</span>, <span style=\"color: #00af00; text-decoration-color: #00af00\">6</span>, <span style=\"color: #00af00; text-decoration-color: #00af00\">6</span>, <span style=\"color: #00af00; text-decoration-color: #00af00\">64</span>)            │               <span style=\"color: #00af00; text-decoration-color: #00af00\">0</span> │\n",
       "├──────────────────────────────────────┼─────────────────────────────┼─────────────────┤\n",
       "│ conv2d_18 (<span style=\"color: #0087ff; text-decoration-color: #0087ff\">Conv2D</span>)                   │ (<span style=\"color: #00d7ff; text-decoration-color: #00d7ff\">None</span>, <span style=\"color: #00af00; text-decoration-color: #00af00\">4</span>, <span style=\"color: #00af00; text-decoration-color: #00af00\">4</span>, <span style=\"color: #00af00; text-decoration-color: #00af00\">128</span>)           │          <span style=\"color: #00af00; text-decoration-color: #00af00\">73,856</span> │\n",
       "├──────────────────────────────────────┼─────────────────────────────┼─────────────────┤\n",
       "│ batch_normalization_5                │ (<span style=\"color: #00d7ff; text-decoration-color: #00d7ff\">None</span>, <span style=\"color: #00af00; text-decoration-color: #00af00\">4</span>, <span style=\"color: #00af00; text-decoration-color: #00af00\">4</span>, <span style=\"color: #00af00; text-decoration-color: #00af00\">128</span>)           │             <span style=\"color: #00af00; text-decoration-color: #00af00\">512</span> │\n",
       "│ (<span style=\"color: #0087ff; text-decoration-color: #0087ff\">BatchNormalization</span>)                 │                             │                 │\n",
       "├──────────────────────────────────────┼─────────────────────────────┼─────────────────┤\n",
       "│ max_pooling2d_11 (<span style=\"color: #0087ff; text-decoration-color: #0087ff\">MaxPooling2D</span>)      │ (<span style=\"color: #00d7ff; text-decoration-color: #00d7ff\">None</span>, <span style=\"color: #00af00; text-decoration-color: #00af00\">2</span>, <span style=\"color: #00af00; text-decoration-color: #00af00\">2</span>, <span style=\"color: #00af00; text-decoration-color: #00af00\">128</span>)           │               <span style=\"color: #00af00; text-decoration-color: #00af00\">0</span> │\n",
       "├──────────────────────────────────────┼─────────────────────────────┼─────────────────┤\n",
       "│ global_average_pooling2d_1           │ (<span style=\"color: #00d7ff; text-decoration-color: #00d7ff\">None</span>, <span style=\"color: #00af00; text-decoration-color: #00af00\">128</span>)                 │               <span style=\"color: #00af00; text-decoration-color: #00af00\">0</span> │\n",
       "│ (<span style=\"color: #0087ff; text-decoration-color: #0087ff\">GlobalAveragePooling2D</span>)             │                             │                 │\n",
       "├──────────────────────────────────────┼─────────────────────────────┼─────────────────┤\n",
       "│ dense_11 (<span style=\"color: #0087ff; text-decoration-color: #0087ff\">Dense</span>)                     │ (<span style=\"color: #00d7ff; text-decoration-color: #00d7ff\">None</span>, <span style=\"color: #00af00; text-decoration-color: #00af00\">512</span>)                 │          <span style=\"color: #00af00; text-decoration-color: #00af00\">66,048</span> │\n",
       "├──────────────────────────────────────┼─────────────────────────────┼─────────────────┤\n",
       "│ dropout_1 (<span style=\"color: #0087ff; text-decoration-color: #0087ff\">Dropout</span>)                  │ (<span style=\"color: #00d7ff; text-decoration-color: #00d7ff\">None</span>, <span style=\"color: #00af00; text-decoration-color: #00af00\">512</span>)                 │               <span style=\"color: #00af00; text-decoration-color: #00af00\">0</span> │\n",
       "├──────────────────────────────────────┼─────────────────────────────┼─────────────────┤\n",
       "│ dense_12 (<span style=\"color: #0087ff; text-decoration-color: #0087ff\">Dense</span>)                     │ (<span style=\"color: #00d7ff; text-decoration-color: #00d7ff\">None</span>, <span style=\"color: #00af00; text-decoration-color: #00af00\">96</span>)                  │          <span style=\"color: #00af00; text-decoration-color: #00af00\">49,248</span> │\n",
       "└──────────────────────────────────────┴─────────────────────────────┴─────────────────┘\n",
       "</pre>\n"
      ],
      "text/plain": [
       "┏━━━━━━━━━━━━━━━━━━━━━━━━━━━━━━━━━━━━━━┳━━━━━━━━━━━━━━━━━━━━━━━━━━━━━┳━━━━━━━━━━━━━━━━━┓\n",
       "┃\u001b[1m \u001b[0m\u001b[1mLayer (type)                        \u001b[0m\u001b[1m \u001b[0m┃\u001b[1m \u001b[0m\u001b[1mOutput Shape               \u001b[0m\u001b[1m \u001b[0m┃\u001b[1m \u001b[0m\u001b[1m        Param #\u001b[0m\u001b[1m \u001b[0m┃\n",
       "┡━━━━━━━━━━━━━━━━━━━━━━━━━━━━━━━━━━━━━━╇━━━━━━━━━━━━━━━━━━━━━━━━━━━━━╇━━━━━━━━━━━━━━━━━┩\n",
       "│ conv2d_16 (\u001b[38;5;33mConv2D\u001b[0m)                   │ (\u001b[38;5;45mNone\u001b[0m, \u001b[38;5;34m30\u001b[0m, \u001b[38;5;34m30\u001b[0m, \u001b[38;5;34m32\u001b[0m)          │             \u001b[38;5;34m896\u001b[0m │\n",
       "├──────────────────────────────────────┼─────────────────────────────┼─────────────────┤\n",
       "│ batch_normalization_3                │ (\u001b[38;5;45mNone\u001b[0m, \u001b[38;5;34m30\u001b[0m, \u001b[38;5;34m30\u001b[0m, \u001b[38;5;34m32\u001b[0m)          │             \u001b[38;5;34m128\u001b[0m │\n",
       "│ (\u001b[38;5;33mBatchNormalization\u001b[0m)                 │                             │                 │\n",
       "├──────────────────────────────────────┼─────────────────────────────┼─────────────────┤\n",
       "│ max_pooling2d_9 (\u001b[38;5;33mMaxPooling2D\u001b[0m)       │ (\u001b[38;5;45mNone\u001b[0m, \u001b[38;5;34m15\u001b[0m, \u001b[38;5;34m15\u001b[0m, \u001b[38;5;34m32\u001b[0m)          │               \u001b[38;5;34m0\u001b[0m │\n",
       "├──────────────────────────────────────┼─────────────────────────────┼─────────────────┤\n",
       "│ conv2d_17 (\u001b[38;5;33mConv2D\u001b[0m)                   │ (\u001b[38;5;45mNone\u001b[0m, \u001b[38;5;34m13\u001b[0m, \u001b[38;5;34m13\u001b[0m, \u001b[38;5;34m64\u001b[0m)          │          \u001b[38;5;34m18,496\u001b[0m │\n",
       "├──────────────────────────────────────┼─────────────────────────────┼─────────────────┤\n",
       "│ batch_normalization_4                │ (\u001b[38;5;45mNone\u001b[0m, \u001b[38;5;34m13\u001b[0m, \u001b[38;5;34m13\u001b[0m, \u001b[38;5;34m64\u001b[0m)          │             \u001b[38;5;34m256\u001b[0m │\n",
       "│ (\u001b[38;5;33mBatchNormalization\u001b[0m)                 │                             │                 │\n",
       "├──────────────────────────────────────┼─────────────────────────────┼─────────────────┤\n",
       "│ max_pooling2d_10 (\u001b[38;5;33mMaxPooling2D\u001b[0m)      │ (\u001b[38;5;45mNone\u001b[0m, \u001b[38;5;34m6\u001b[0m, \u001b[38;5;34m6\u001b[0m, \u001b[38;5;34m64\u001b[0m)            │               \u001b[38;5;34m0\u001b[0m │\n",
       "├──────────────────────────────────────┼─────────────────────────────┼─────────────────┤\n",
       "│ conv2d_18 (\u001b[38;5;33mConv2D\u001b[0m)                   │ (\u001b[38;5;45mNone\u001b[0m, \u001b[38;5;34m4\u001b[0m, \u001b[38;5;34m4\u001b[0m, \u001b[38;5;34m128\u001b[0m)           │          \u001b[38;5;34m73,856\u001b[0m │\n",
       "├──────────────────────────────────────┼─────────────────────────────┼─────────────────┤\n",
       "│ batch_normalization_5                │ (\u001b[38;5;45mNone\u001b[0m, \u001b[38;5;34m4\u001b[0m, \u001b[38;5;34m4\u001b[0m, \u001b[38;5;34m128\u001b[0m)           │             \u001b[38;5;34m512\u001b[0m │\n",
       "│ (\u001b[38;5;33mBatchNormalization\u001b[0m)                 │                             │                 │\n",
       "├──────────────────────────────────────┼─────────────────────────────┼─────────────────┤\n",
       "│ max_pooling2d_11 (\u001b[38;5;33mMaxPooling2D\u001b[0m)      │ (\u001b[38;5;45mNone\u001b[0m, \u001b[38;5;34m2\u001b[0m, \u001b[38;5;34m2\u001b[0m, \u001b[38;5;34m128\u001b[0m)           │               \u001b[38;5;34m0\u001b[0m │\n",
       "├──────────────────────────────────────┼─────────────────────────────┼─────────────────┤\n",
       "│ global_average_pooling2d_1           │ (\u001b[38;5;45mNone\u001b[0m, \u001b[38;5;34m128\u001b[0m)                 │               \u001b[38;5;34m0\u001b[0m │\n",
       "│ (\u001b[38;5;33mGlobalAveragePooling2D\u001b[0m)             │                             │                 │\n",
       "├──────────────────────────────────────┼─────────────────────────────┼─────────────────┤\n",
       "│ dense_11 (\u001b[38;5;33mDense\u001b[0m)                     │ (\u001b[38;5;45mNone\u001b[0m, \u001b[38;5;34m512\u001b[0m)                 │          \u001b[38;5;34m66,048\u001b[0m │\n",
       "├──────────────────────────────────────┼─────────────────────────────┼─────────────────┤\n",
       "│ dropout_1 (\u001b[38;5;33mDropout\u001b[0m)                  │ (\u001b[38;5;45mNone\u001b[0m, \u001b[38;5;34m512\u001b[0m)                 │               \u001b[38;5;34m0\u001b[0m │\n",
       "├──────────────────────────────────────┼─────────────────────────────┼─────────────────┤\n",
       "│ dense_12 (\u001b[38;5;33mDense\u001b[0m)                     │ (\u001b[38;5;45mNone\u001b[0m, \u001b[38;5;34m96\u001b[0m)                  │          \u001b[38;5;34m49,248\u001b[0m │\n",
       "└──────────────────────────────────────┴─────────────────────────────┴─────────────────┘\n"
      ]
     },
     "metadata": {},
     "output_type": "display_data"
    },
    {
     "data": {
      "text/html": [
       "<pre style=\"white-space:pre;overflow-x:auto;line-height:normal;font-family:Menlo,'DejaVu Sans Mono',consolas,'Courier New',monospace\"><span style=\"font-weight: bold\"> Total params: </span><span style=\"color: #00af00; text-decoration-color: #00af00\">209,440</span> (818.12 KB)\n",
       "</pre>\n"
      ],
      "text/plain": [
       "\u001b[1m Total params: \u001b[0m\u001b[38;5;34m209,440\u001b[0m (818.12 KB)\n"
      ]
     },
     "metadata": {},
     "output_type": "display_data"
    },
    {
     "data": {
      "text/html": [
       "<pre style=\"white-space:pre;overflow-x:auto;line-height:normal;font-family:Menlo,'DejaVu Sans Mono',consolas,'Courier New',monospace\"><span style=\"font-weight: bold\"> Trainable params: </span><span style=\"color: #00af00; text-decoration-color: #00af00\">208,992</span> (816.38 KB)\n",
       "</pre>\n"
      ],
      "text/plain": [
       "\u001b[1m Trainable params: \u001b[0m\u001b[38;5;34m208,992\u001b[0m (816.38 KB)\n"
      ]
     },
     "metadata": {},
     "output_type": "display_data"
    },
    {
     "data": {
      "text/html": [
       "<pre style=\"white-space:pre;overflow-x:auto;line-height:normal;font-family:Menlo,'DejaVu Sans Mono',consolas,'Courier New',monospace\"><span style=\"font-weight: bold\"> Non-trainable params: </span><span style=\"color: #00af00; text-decoration-color: #00af00\">448</span> (1.75 KB)\n",
       "</pre>\n"
      ],
      "text/plain": [
       "\u001b[1m Non-trainable params: \u001b[0m\u001b[38;5;34m448\u001b[0m (1.75 KB)\n"
      ]
     },
     "metadata": {},
     "output_type": "display_data"
    }
   ],
   "source": [
    "model.summary()"
   ]
  },
  {
   "cell_type": "code",
   "execution_count": 182,
   "metadata": {
    "execution": {
     "iopub.execute_input": "2024-12-21T06:33:26.558256Z",
     "iopub.status.busy": "2024-12-21T06:33:26.557953Z",
     "iopub.status.idle": "2024-12-21T06:33:26.568889Z",
     "shell.execute_reply": "2024-12-21T06:33:26.568254Z",
     "shell.execute_reply.started": "2024-12-21T06:33:26.558227Z"
    },
    "trusted": true
   },
   "outputs": [],
   "source": [
    "model.compile(\n",
    "    optimizer = 'adam',\n",
    "    loss = 'sparse_categorical_crossentropy',\n",
    "    metrics = ['accuracy']\n",
    "\n",
    ")"
   ]
  },
  {
   "cell_type": "code",
   "execution_count": null,
   "metadata": {
    "trusted": true
   },
   "outputs": [],
   "source": []
  },
  {
   "cell_type": "code",
   "execution_count": 185,
   "metadata": {
    "execution": {
     "iopub.execute_input": "2024-12-21T06:33:26.746784Z",
     "iopub.status.busy": "2024-12-21T06:33:26.746482Z",
     "iopub.status.idle": "2024-12-21T06:33:26.761230Z",
     "shell.execute_reply": "2024-12-21T06:33:26.760404Z",
     "shell.execute_reply.started": "2024-12-21T06:33:26.746762Z"
    },
    "trusted": true
   },
   "outputs": [],
   "source": [
    "epochs = 10"
   ]
  },
  {
   "cell_type": "code",
   "execution_count": 186,
   "metadata": {
    "execution": {
     "iopub.execute_input": "2024-12-21T06:33:26.762287Z",
     "iopub.status.busy": "2024-12-21T06:33:26.762019Z",
     "iopub.status.idle": "2024-12-21T06:33:26.776424Z",
     "shell.execute_reply": "2024-12-21T06:33:26.775621Z",
     "shell.execute_reply.started": "2024-12-21T06:33:26.762256Z"
    },
    "trusted": true
   },
   "outputs": [
    {
     "data": {
      "text/plain": [
       "array(['character_28_la', 'character_28_la', 'character_28_la',\n",
       "       'character_28_la', 'character_28_la', 'character_28_la',\n",
       "       'character_28_la', 'character_28_la', 'character_28_la',\n",
       "       'character_28_la'], dtype='<U25')"
      ]
     },
     "execution_count": 186,
     "metadata": {},
     "output_type": "execute_result"
    }
   ],
   "source": [
    "y_train[:10]"
   ]
  },
  {
   "cell_type": "code",
   "execution_count": 187,
   "metadata": {
    "execution": {
     "iopub.execute_input": "2024-12-21T06:33:26.777439Z",
     "iopub.status.busy": "2024-12-21T06:33:26.777186Z",
     "iopub.status.idle": "2024-12-21T06:33:26.808924Z",
     "shell.execute_reply": "2024-12-21T06:33:26.808318Z",
     "shell.execute_reply.started": "2024-12-21T06:33:26.777419Z"
    },
    "trusted": true
   },
   "outputs": [],
   "source": [
    "le = LabelEncoder()\n",
    "y_train = le.fit_transform(y_train)"
   ]
  },
  {
   "cell_type": "code",
   "execution_count": 188,
   "metadata": {
    "execution": {
     "iopub.execute_input": "2024-12-21T06:33:26.809920Z",
     "iopub.status.busy": "2024-12-21T06:33:26.809725Z",
     "iopub.status.idle": "2024-12-21T06:33:27.376007Z",
     "shell.execute_reply": "2024-12-21T06:33:27.375313Z",
     "shell.execute_reply.started": "2024-12-21T06:33:26.809903Z"
    },
    "trusted": true
   },
   "outputs": [],
   "source": [
    "X_train, X_val, y_train, y_val = train_test_split(X_train, y_train, test_size = 0.2, random_state = 33)"
   ]
  },
  {
   "cell_type": "code",
   "execution_count": 189,
   "metadata": {
    "execution": {
     "iopub.execute_input": "2024-12-21T06:33:27.376989Z",
     "iopub.status.busy": "2024-12-21T06:33:27.376770Z",
     "iopub.status.idle": "2024-12-21T06:34:31.210141Z",
     "shell.execute_reply": "2024-12-21T06:34:31.209397Z",
     "shell.execute_reply.started": "2024-12-21T06:33:27.376970Z"
    },
    "trusted": true
   },
   "outputs": [
    {
     "name": "stdout",
     "output_type": "stream",
     "text": [
      "Epoch 1/10\n",
      "\u001b[1m1955/1955\u001b[0m \u001b[32m━━━━━━━━━━━━━━━━━━━━\u001b[0m\u001b[37m\u001b[0m \u001b[1m11s\u001b[0m 4ms/step - accuracy: 0.6760 - loss: 2.0300 - val_accuracy: 0.9510 - val_loss: 0.3750\n",
      "Epoch 2/10\n",
      "\u001b[1m1955/1955\u001b[0m \u001b[32m━━━━━━━━━━━━━━━━━━━━\u001b[0m\u001b[37m\u001b[0m \u001b[1m5s\u001b[0m 3ms/step - accuracy: 0.9423 - loss: 0.3964 - val_accuracy: 0.9567 - val_loss: 0.3281\n",
      "Epoch 3/10\n",
      "\u001b[1m1955/1955\u001b[0m \u001b[32m━━━━━━━━━━━━━━━━━━━━\u001b[0m\u001b[37m\u001b[0m \u001b[1m6s\u001b[0m 3ms/step - accuracy: 0.9563 - loss: 0.3209 - val_accuracy: 0.9664 - val_loss: 0.2749\n",
      "Epoch 4/10\n",
      "\u001b[1m1955/1955\u001b[0m \u001b[32m━━━━━━━━━━━━━━━━━━━━\u001b[0m\u001b[37m\u001b[0m \u001b[1m6s\u001b[0m 3ms/step - accuracy: 0.9637 - loss: 0.2823 - val_accuracy: 0.9634 - val_loss: 0.2766\n",
      "Epoch 5/10\n",
      "\u001b[1m1955/1955\u001b[0m \u001b[32m━━━━━━━━━━━━━━━━━━━━\u001b[0m\u001b[37m\u001b[0m \u001b[1m6s\u001b[0m 3ms/step - accuracy: 0.9640 - loss: 0.2749 - val_accuracy: 0.9754 - val_loss: 0.2433\n",
      "Epoch 6/10\n",
      "\u001b[1m1955/1955\u001b[0m \u001b[32m━━━━━━━━━━━━━━━━━━━━\u001b[0m\u001b[37m\u001b[0m \u001b[1m6s\u001b[0m 3ms/step - accuracy: 0.9698 - loss: 0.2526 - val_accuracy: 0.9608 - val_loss: 0.3070\n",
      "Epoch 7/10\n",
      "\u001b[1m1955/1955\u001b[0m \u001b[32m━━━━━━━━━━━━━━━━━━━━\u001b[0m\u001b[37m\u001b[0m \u001b[1m6s\u001b[0m 3ms/step - accuracy: 0.9700 - loss: 0.2644 - val_accuracy: 0.9711 - val_loss: 0.2704\n",
      "Epoch 8/10\n",
      "\u001b[1m1955/1955\u001b[0m \u001b[32m━━━━━━━━━━━━━━━━━━━━\u001b[0m\u001b[37m\u001b[0m \u001b[1m6s\u001b[0m 3ms/step - accuracy: 0.9752 - loss: 0.2373 - val_accuracy: 0.9738 - val_loss: 0.2608\n",
      "Epoch 9/10\n",
      "\u001b[1m1955/1955\u001b[0m \u001b[32m━━━━━━━━━━━━━━━━━━━━\u001b[0m\u001b[37m\u001b[0m \u001b[1m6s\u001b[0m 3ms/step - accuracy: 0.9732 - loss: 0.2494 - val_accuracy: 0.9693 - val_loss: 0.2766\n",
      "Epoch 10/10\n",
      "\u001b[1m1955/1955\u001b[0m \u001b[32m━━━━━━━━━━━━━━━━━━━━\u001b[0m\u001b[37m\u001b[0m \u001b[1m6s\u001b[0m 3ms/step - accuracy: 0.9744 - loss: 0.2426 - val_accuracy: 0.9744 - val_loss: 0.2546\n"
     ]
    }
   ],
   "source": [
    "history = model.fit(X_train, y_train,batch_size = 32, epochs = epochs, validation_data = (X_val, y_val))"
   ]
  },
  {
   "cell_type": "code",
   "execution_count": 190,
   "metadata": {
    "execution": {
     "iopub.execute_input": "2024-12-21T06:34:31.211375Z",
     "iopub.status.busy": "2024-12-21T06:34:31.211139Z",
     "iopub.status.idle": "2024-12-21T06:34:31.217669Z",
     "shell.execute_reply": "2024-12-21T06:34:31.217142Z",
     "shell.execute_reply.started": "2024-12-21T06:34:31.211345Z"
    },
    "trusted": true
   },
   "outputs": [],
   "source": [
    "y_test = le.fit_transform(y_test)"
   ]
  },
  {
   "cell_type": "code",
   "execution_count": 191,
   "metadata": {
    "execution": {
     "iopub.execute_input": "2024-12-21T06:34:31.218686Z",
     "iopub.status.busy": "2024-12-21T06:34:31.218447Z",
     "iopub.status.idle": "2024-12-21T06:34:31.353630Z",
     "shell.execute_reply": "2024-12-21T06:34:31.352673Z",
     "shell.execute_reply.started": "2024-12-21T06:34:31.218666Z"
    },
    "trusted": true
   },
   "outputs": [],
   "source": [
    "\n",
    "combined = list(zip(X_test, y_test))\n",
    "\n",
    "np.random.shuffle(combined)\n",
    "\n",
    "X_test, y_test = zip(*combined)\n",
    "\n",
    "X_test = np.array(X_test)\n",
    "y_test = np.array(y_test)\n"
   ]
  },
  {
   "cell_type": "code",
   "execution_count": 192,
   "metadata": {
    "execution": {
     "iopub.execute_input": "2024-12-21T06:34:31.354799Z",
     "iopub.status.busy": "2024-12-21T06:34:31.354564Z",
     "iopub.status.idle": "2024-12-21T06:34:33.152482Z",
     "shell.execute_reply": "2024-12-21T06:34:33.151241Z",
     "shell.execute_reply.started": "2024-12-21T06:34:31.354780Z"
    },
    "trusted": true
   },
   "outputs": [
    {
     "name": "stdout",
     "output_type": "stream",
     "text": [
      "\u001b[1m432/432\u001b[0m \u001b[32m━━━━━━━━━━━━━━━━━━━━\u001b[0m\u001b[37m\u001b[0m \u001b[1m1s\u001b[0m 2ms/step\n"
     ]
    }
   ],
   "source": [
    "y_pred = model.predict(X_test)"
   ]
  },
  {
   "cell_type": "code",
   "execution_count": 193,
   "metadata": {
    "execution": {
     "iopub.execute_input": "2024-12-21T06:34:33.154373Z",
     "iopub.status.busy": "2024-12-21T06:34:33.153939Z",
     "iopub.status.idle": "2024-12-21T06:34:33.159932Z",
     "shell.execute_reply": "2024-12-21T06:34:33.158898Z",
     "shell.execute_reply.started": "2024-12-21T06:34:33.154334Z"
    },
    "trusted": true
   },
   "outputs": [],
   "source": [
    "y_pred = np.argmax(y_pred, axis = 1)"
   ]
  },
  {
   "cell_type": "code",
   "execution_count": 194,
   "metadata": {
    "execution": {
     "iopub.execute_input": "2024-12-21T06:34:33.161215Z",
     "iopub.status.busy": "2024-12-21T06:34:33.160891Z",
     "iopub.status.idle": "2024-12-21T06:34:33.191144Z",
     "shell.execute_reply": "2024-12-21T06:34:33.190504Z",
     "shell.execute_reply.started": "2024-12-21T06:34:33.161178Z"
    },
    "trusted": true
   },
   "outputs": [
    {
     "name": "stdout",
     "output_type": "stream",
     "text": [
      "              precision    recall  f1-score   support\n",
      "\n",
      "           0       0.98      0.99      0.99       300\n",
      "           1       0.96      0.97      0.97       300\n",
      "           2       0.99      0.97      0.98       300\n",
      "           3       0.98      0.97      0.97       300\n",
      "           4       0.98      0.97      0.97       300\n",
      "           5       1.00      1.00      1.00       300\n",
      "           6       0.96      0.99      0.97       300\n",
      "           7       0.99      0.95      0.97       300\n",
      "           8       0.96      0.90      0.93       300\n",
      "           9       0.98      0.95      0.96       300\n",
      "          10       1.00      0.96      0.98       300\n",
      "          11       0.98      0.98      0.98       300\n",
      "          12       0.98      0.99      0.99       300\n",
      "          13       0.96      1.00      0.98       300\n",
      "          14       0.96      0.94      0.95       300\n",
      "          15       0.97      0.95      0.96       300\n",
      "          16       0.97      0.99      0.98       300\n",
      "          17       0.95      0.98      0.97       300\n",
      "          18       0.95      0.99      0.97       300\n",
      "          19       1.00      0.99      0.99       300\n",
      "          20       0.94      0.93      0.93       300\n",
      "          21       1.00      0.99      0.99       300\n",
      "          22       0.98      0.98      0.98       300\n",
      "          23       0.99      0.98      0.98       300\n",
      "          24       0.97      0.97      0.97       300\n",
      "          25       0.97      0.98      0.98       300\n",
      "          26       1.00      0.96      0.98       300\n",
      "          27       0.98      0.99      0.99       300\n",
      "          28       0.99      0.97      0.98       300\n",
      "          29       0.98      0.99      0.99       300\n",
      "          30       0.95      0.96      0.96       300\n",
      "          31       0.99      0.97      0.98       300\n",
      "          32       0.98      0.99      0.98       300\n",
      "          33       0.93      0.99      0.96       300\n",
      "          34       0.99      0.98      0.99       300\n",
      "          35       0.97      0.98      0.98       300\n",
      "          36       1.00      0.99      1.00       300\n",
      "          37       0.97      1.00      0.98       300\n",
      "          38       0.99      0.97      0.98       300\n",
      "          39       0.99      1.00      1.00       300\n",
      "          40       0.98      1.00      0.99       300\n",
      "          41       1.00      0.97      0.99       300\n",
      "          42       0.98      0.98      0.98       300\n",
      "          43       1.00      1.00      1.00       300\n",
      "          44       0.93      1.00      0.96       300\n",
      "          45       0.99      0.98      0.98       300\n",
      "\n",
      "    accuracy                           0.98     13800\n",
      "   macro avg       0.98      0.98      0.98     13800\n",
      "weighted avg       0.98      0.98      0.98     13800\n",
      "\n"
     ]
    }
   ],
   "source": [
    "print(classification_report(y_test, y_pred))"
   ]
  },
  {
   "cell_type": "code",
   "execution_count": 195,
   "metadata": {
    "execution": {
     "iopub.execute_input": "2024-12-21T06:34:33.192016Z",
     "iopub.status.busy": "2024-12-21T06:34:33.191795Z",
     "iopub.status.idle": "2024-12-21T06:34:33.197658Z",
     "shell.execute_reply": "2024-12-21T06:34:33.196899Z",
     "shell.execute_reply.started": "2024-12-21T06:34:33.191998Z"
    },
    "trusted": true
   },
   "outputs": [
    {
     "data": {
      "text/plain": [
       "0.9769565217391304"
      ]
     },
     "execution_count": 195,
     "metadata": {},
     "output_type": "execute_result"
    }
   ],
   "source": [
    "accuracy_score(y_test, y_pred)"
   ]
  },
  {
   "cell_type": "code",
   "execution_count": 198,
   "metadata": {
    "execution": {
     "iopub.execute_input": "2024-12-21T06:34:33.661643Z",
     "iopub.status.busy": "2024-12-21T06:34:33.661396Z",
     "iopub.status.idle": "2024-12-21T06:34:33.807701Z",
     "shell.execute_reply": "2024-12-21T06:34:33.806663Z",
     "shell.execute_reply.started": "2024-12-21T06:34:33.661619Z"
    },
    "trusted": true
   },
   "outputs": [
    {
     "data": {
      "text/plain": [
       "[<matplotlib.lines.Line2D at 0x7eec243aee90>]"
      ]
     },
     "execution_count": 198,
     "metadata": {},
     "output_type": "execute_result"
    },
    {
     "data": {
      "image/png": "[encoded data removed]",
      "text/plain": [
       "<Figure size 640x480 with 1 Axes>"
      ]
     },
     "metadata": {},
     "output_type": "display_data"
    }
   ],
   "source": [
    "plt.plot(range(0, epochs), history.history['accuracy'])\n",
    "plt.plot(range(0, epochs), history.history['val_accuracy'])"
   ]
  },
  {
   "cell_type": "code",
   "execution_count": 199,
   "metadata": {
    "execution": {
     "iopub.execute_input": "2024-12-21T06:34:33.810471Z",
     "iopub.status.busy": "2024-12-21T06:34:33.810089Z",
     "iopub.status.idle": "2024-12-21T06:34:33.961293Z",
     "shell.execute_reply": "2024-12-21T06:34:33.960304Z",
     "shell.execute_reply.started": "2024-12-21T06:34:33.810436Z"
    },
    "trusted": true
   },
   "outputs": [
    {
     "data": {
      "text/plain": [
       "[<matplotlib.lines.Line2D at 0x7eed1766add0>]"
      ]
     },
     "execution_count": 199,
     "metadata": {},
     "output_type": "execute_result"
    },
    {
     "data": {
      "image/png": "[encoded data removed]",
      "text/plain": [
       "<Figure size 640x480 with 1 Axes>"
      ]
     },
     "metadata": {},
     "output_type": "display_data"
    }
   ],
   "source": [
    "plt.plot(range(0, epochs), history.history['loss'])\n",
    "plt.plot(range(0, epochs), history.history['val_loss'])"
   ]
  },
  {
   "cell_type": "code",
   "execution_count": 238,
   "metadata": {
    "execution": {
     "iopub.execute_input": "2024-12-21T06:57:47.501066Z",
     "iopub.status.busy": "2024-12-21T06:57:47.500774Z",
     "iopub.status.idle": "2024-12-21T06:57:47.518179Z",
     "shell.execute_reply": "2024-12-21T06:57:47.517487Z",
     "shell.execute_reply.started": "2024-12-21T06:57:47.501043Z"
    },
    "trusted": true
   },
   "outputs": [],
   "source": [
    "img1 = cv.imread('/kaggle/input/newone/Drawing-5.sketchpad.png')\n",
    "img1 = img1/255"
   ]
  },
  {
   "cell_type": "code",
   "execution_count": 239,
   "metadata": {
    "execution": {
     "iopub.execute_input": "2024-12-21T06:57:47.737614Z",
     "iopub.status.busy": "2024-12-21T06:57:47.737346Z",
     "iopub.status.idle": "2024-12-21T06:57:47.974124Z",
     "shell.execute_reply": "2024-12-21T06:57:47.973105Z",
     "shell.execute_reply.started": "2024-12-21T06:57:47.737590Z"
    },
    "trusted": true
   },
   "outputs": [
    {
     "data": {
      "text/plain": [
       "<matplotlib.image.AxesImage at 0x7eecf1c27220>"
      ]
     },
     "execution_count": 239,
     "metadata": {},
     "output_type": "execute_result"
    },
    {
     "data": {
      "image/png": "[encoded data removed]",
      "text/plain": [
       "<Figure size 640x480 with 1 Axes>"
      ]
     },
     "metadata": {},
     "output_type": "display_data"
    }
   ],
   "source": [
    "plt.imshow(img1)"
   ]
  },
  {
   "cell_type": "code",
   "execution_count": 240,
   "metadata": {
    "execution": {
     "iopub.execute_input": "2024-12-21T06:57:48.095964Z",
     "iopub.status.busy": "2024-12-21T06:57:48.095733Z",
     "iopub.status.idle": "2024-12-21T06:57:48.158555Z",
     "shell.execute_reply": "2024-12-21T06:57:48.157868Z",
     "shell.execute_reply.started": "2024-12-21T06:57:48.095943Z"
    },
    "trusted": true
   },
   "outputs": [
    {
     "name": "stdout",
     "output_type": "stream",
     "text": [
      "\u001b[1m1/1\u001b[0m \u001b[32m━━━━━━━━━━━━━━━━━━━━\u001b[0m\u001b[37m\u001b[0m \u001b[1m0s\u001b[0m 17ms/step\n"
     ]
    }
   ],
   "source": [
    "img1 = np.expand_dims(img1, axis = 0)\n",
    "predicted = model.predict(img1)\n"
   ]
  },
  {
   "cell_type": "code",
   "execution_count": 241,
   "metadata": {
    "execution": {
     "iopub.execute_input": "2024-12-21T06:57:48.292938Z",
     "iopub.status.busy": "2024-12-21T06:57:48.292663Z",
     "iopub.status.idle": "2024-12-21T06:57:48.296595Z",
     "shell.execute_reply": "2024-12-21T06:57:48.295733Z",
     "shell.execute_reply.started": "2024-12-21T06:57:48.292910Z"
    },
    "trusted": true
   },
   "outputs": [],
   "source": [
    "p = np.argmax(predicted, axis = 1)"
   ]
  },
  {
   "cell_type": "code",
   "execution_count": 242,
   "metadata": {
    "execution": {
     "iopub.execute_input": "2024-12-21T06:57:52.841030Z",
     "iopub.status.busy": "2024-12-21T06:57:52.840744Z",
     "iopub.status.idle": "2024-12-21T06:57:52.846967Z",
     "shell.execute_reply": "2024-12-21T06:57:52.846141Z",
     "shell.execute_reply.started": "2024-12-21T06:57:52.841006Z"
    },
    "trusted": true
   },
   "outputs": [
    {
     "data": {
      "text/plain": [
       "array(['character_1_ka'], dtype='<U25')"
      ]
     },
     "execution_count": 242,
     "metadata": {},
     "output_type": "execute_result"
    }
   ],
   "source": [
    "le.inverse_transform(p)"
   ]
  },
  {
   "cell_type": "code",
   "execution_count": 237,
   "metadata": {
    "execution": {
     "iopub.execute_input": "2024-12-21T06:54:11.202125Z",
     "iopub.status.busy": "2024-12-21T06:54:11.201706Z",
     "iopub.status.idle": "2024-12-21T06:54:11.212127Z",
     "shell.execute_reply": "2024-12-21T06:54:11.211292Z",
     "shell.execute_reply.started": "2024-12-21T06:54:11.202050Z"
    },
    "trusted": true
   },
   "outputs": [
    {
     "name": "stdout",
     "output_type": "stream",
     "text": [
      "character_10_yna -> 0\n",
      "character_11_taamatar -> 1\n",
      "character_12_thaa -> 2\n",
      "character_13_daa -> 3\n",
      "character_14_dhaa -> 4\n",
      "character_15_adna -> 5\n",
      "character_16_tabala -> 6\n",
      "character_17_tha -> 7\n",
      "character_18_da -> 8\n",
      "character_19_dha -> 9\n",
      "character_1_ka -> 10\n",
      "character_20_na -> 11\n",
      "character_21_pa -> 12\n",
      "character_22_pha -> 13\n",
      "character_23_ba -> 14\n",
      "character_24_bha -> 15\n",
      "character_25_ma -> 16\n",
      "character_26_yaw -> 17\n",
      "character_27_ra -> 18\n",
      "character_28_la -> 19\n",
      "character_29_waw -> 20\n",
      "character_2_kha -> 21\n",
      "character_30_motosaw -> 22\n",
      "character_31_petchiryakha -> 23\n",
      "character_32_patalosaw -> 24\n",
      "character_33_ha -> 25\n",
      "character_34_chhya -> 26\n",
      "character_35_tra -> 27\n",
      "character_36_gya -> 28\n",
      "character_3_ga -> 29\n",
      "character_4_gha -> 30\n",
      "character_5_kna -> 31\n",
      "character_6_cha -> 32\n",
      "character_7_chha -> 33\n",
      "character_8_ja -> 34\n",
      "character_9_jha -> 35\n",
      "digit_0 -> 36\n",
      "digit_1 -> 37\n",
      "digit_2 -> 38\n",
      "digit_3 -> 39\n",
      "digit_4 -> 40\n",
      "digit_5 -> 41\n",
      "digit_6 -> 42\n",
      "digit_7 -> 43\n",
      "digit_8 -> 44\n",
      "digit_9 -> 45\n"
     ]
    }
   ],
   "source": [
    "for i, label in enumerate(le.classes_):\n",
    "    print(f\"{label} -> {i}\")"
   ]
  },
  {
   "cell_type": "code",
   "execution_count": 243,
   "metadata": {
    "execution": {
     "iopub.execute_input": "2024-12-21T07:16:30.592667Z",
     "iopub.status.busy": "2024-12-21T07:16:30.592375Z",
     "iopub.status.idle": "2024-12-21T07:16:30.597388Z",
     "shell.execute_reply": "2024-12-21T07:16:30.596490Z",
     "shell.execute_reply.started": "2024-12-21T07:16:30.592645Z"
    },
    "trusted": true
   },
   "outputs": [],
   "source": [
    "def predict_characters(path, model, encoder):\n",
    "    img = cv.imread(path)\n",
    "    img = cv.resize(img, (32,32))\n",
    "    img_n = img/255\n",
    "    img_batch = np.expand_dims(img_n, axis = 0)\n",
    "    y_predict = model.predict(img_batch)\n",
    "    y_predict = np.argmax(y_predict, axis = 1)\n",
    "    character = encoder.inverse_transform(y_predict)\n",
    "    plt.imshow(img)\n",
    "    return character\n",
    "    \n",
    "    "
   ]
  },
  {
   "cell_type": "code",
   "execution_count": 245,
   "metadata": {
    "execution": {
     "iopub.execute_input": "2024-12-21T07:17:12.857432Z",
     "iopub.status.busy": "2024-12-21T07:17:12.857135Z",
     "iopub.status.idle": "2024-12-21T07:17:13.150462Z",
     "shell.execute_reply": "2024-12-21T07:17:13.149544Z",
     "shell.execute_reply.started": "2024-12-21T07:17:12.857410Z"
    },
    "trusted": true
   },
   "outputs": [
    {
     "name": "stdout",
     "output_type": "stream",
     "text": [
      "\u001b[1m1/1\u001b[0m \u001b[32m━━━━━━━━━━━━━━━━━━━━\u001b[0m\u001b[37m\u001b[0m \u001b[1m0s\u001b[0m 16ms/step\n"
     ]
    },
    {
     "data": {
      "text/plain": [
       "array(['digit_0'], dtype='<U25')"
      ]
     },
     "execution_count": 245,
     "metadata": {},
     "output_type": "execute_result"
    },
    {
     "data": {
      "image/png": "[encoded data removed]",
      "text/plain": [
       "<Figure size 640x480 with 1 Axes>"
      ]
     },
     "metadata": {},
     "output_type": "display_data"
    }
   ],
   "source": [
    "predict_characters('/kaggle/input/newone/Drawing-3.sketchpad.png', model, le)"
   ]
  },
  {
   "cell_type": "code",
   "execution_count": 247,
   "metadata": {
    "execution": {
     "iopub.execute_input": "2024-12-21T07:17:51.075859Z",
     "iopub.status.busy": "2024-12-21T07:17:51.075580Z",
     "iopub.status.idle": "2024-12-21T07:17:51.349811Z",
     "shell.execute_reply": "2024-12-21T07:17:51.349022Z",
     "shell.execute_reply.started": "2024-12-21T07:17:51.075838Z"
    },
    "trusted": true
   },
   "outputs": [
    {
     "name": "stdout",
     "output_type": "stream",
     "text": [
      "\u001b[1m1/1\u001b[0m \u001b[32m━━━━━━━━━━━━━━━━━━━━\u001b[0m\u001b[37m\u001b[0m \u001b[1m0s\u001b[0m 16ms/step\n"
     ]
    },
    {
     "data": {
      "text/plain": [
       "array(['character_11_taamatar'], dtype='<U25')"
      ]
     },
     "execution_count": 247,
     "metadata": {},
     "output_type": "execute_result"
    },
    {
     "data": {
      "image/png": "[encoded data removed]",
      "text/plain": [
       "<Figure size 640x480 with 1 Axes>"
      ]
     },
     "metadata": {},
     "output_type": "display_data"
    }
   ],
   "source": [
    "predict_characters('/kaggle/input/newone/Drawing-4.sketchpad.png', model, le)"
   ]
  },
  {
   "cell_type": "code",
   "execution_count": 248,
   "metadata": {
    "execution": {
     "iopub.execute_input": "2024-12-21T07:18:01.964681Z",
     "iopub.status.busy": "2024-12-21T07:18:01.964293Z",
     "iopub.status.idle": "2024-12-21T07:18:02.263027Z",
     "shell.execute_reply": "2024-12-21T07:18:02.262172Z",
     "shell.execute_reply.started": "2024-12-21T07:18:01.964650Z"
    },
    "trusted": true
   },
   "outputs": [
    {
     "name": "stdout",
     "output_type": "stream",
     "text": [
      "\u001b[1m1/1\u001b[0m \u001b[32m━━━━━━━━━━━━━━━━━━━━\u001b[0m\u001b[37m\u001b[0m \u001b[1m0s\u001b[0m 17ms/step\n"
     ]
    },
    {
     "data": {
      "text/plain": [
       "array(['character_1_ka'], dtype='<U25')"
      ]
     },
     "execution_count": 248,
     "metadata": {},
     "output_type": "execute_result"
    },
    {
     "data": {
      "image/png": "[encoded data removed]",
      "text/plain": [
       "<Figure size 640x480 with 1 Axes>"
      ]
     },
     "metadata": {},
     "output_type": "display_data"
    }
   ],
   "source": [
    "predict_characters('/kaggle/input/newone/Drawing-5.sketchpad.png', model, le)"
   ]
  },
  {
   "cell_type": "code",
   "execution_count": null,
   "metadata": {
    "trusted": true
   },
   "outputs": [],
   "source": []
  }
 ],
 "metadata": {
  "kaggle": {
   "accelerator": "gpu",
   "dataSources": [
    {
     "datasetId": 1582264,
     "sourceId": 2603511,
     "sourceType": "datasetVersion"
    },
    {
     "datasetId": 6346881,
     "sourceId": 10260046,
     "sourceType": "datasetVersion"
    },
    {
     "datasetId": 6347056,
     "sourceId": 10260459,
     "sourceType": "datasetVersion"
    }
   ],
   "dockerImageVersionId": 30822,
   "isGpuEnabled": true,
   "isInternetEnabled": true,
   "language": "python",
   "sourceType": "notebook"
  },
  "kernelspec": {
   "display_name": "Python 3",
   "language": "python",
   "name": "python3"
  },
  "language_info": {
   "codemirror_mode": {
    "name": "ipython",
    "version": 3
   },
   "file_extension": ".py",
   "mimetype": "text/x-python",
   "name": "python",
   "nbconvert_exporter": "python",
   "pygments_lexer": "ipython3",
   "version": "3.10.12"
  }
 },
 "nbformat": 4,
 "nbformat_minor": 4
}
